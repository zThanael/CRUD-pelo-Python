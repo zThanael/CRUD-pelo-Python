{
 "cells": [
  {
   "cell_type": "markdown",
   "metadata": {},
   "source": [
    "--- \n",
    "# Utilizando Python para criar e fazer CRUD em banco de dados <br>\n",
    "---"
   ]
  },
  {
   "cell_type": "markdown",
   "metadata": {},
   "source": [
    "### Modelo para automatizar o CRUD \n",
    "> CRUD são as quatro operações básicas utilizadas em bases de dados relacionais fornecidas aos utilizadores do sistema. <br>\n",
    "  CRUD = Create Read Update e Delete"
   ]
  },
  {
   "cell_type": "markdown",
   "metadata": {},
   "source": [
    "---\n",
    "## Código Utilizado<br>\n",
    "---"
   ]
  },
  {
   "cell_type": "markdown",
   "metadata": {},
   "source": [
    "### <li> 1° Passo: Importação de libs (Bibliotecas)"
   ]
  },
  {
   "cell_type": "code",
   "execution_count": null,
   "metadata": {},
   "outputs": [],
   "source": [
    "import os\n",
    "import sqlite3\n",
    "import datetime\n",
    "import random"
   ]
  },
  {
   "cell_type": "markdown",
   "metadata": {},
   "source": [
    "### <li> 2° Passo: Criar o banco de dados .db"
   ]
  },
  {
   "cell_type": "markdown",
   "metadata": {},
   "source": [
    "><h6> Comando que irá remover o banco de dados caso o mesmo ja exista, se não houver o banco ele será criado<br></h6>\n",
    "<blockquote> <blockquote> Comando: <b>os.remove('zoologico.db') if os.path.exists('zoologico.db') else None </b><br> </blockquote>  </blockquote>                               \n"
   ]
  },
  {
   "cell_type": "markdown",
   "metadata": {},
   "source": [
    "### <li> 3° Passo: Conectar no banco de dados através do SQLite3"
   ]
  },
  {
   "cell_type": "code",
   "execution_count": null,
   "metadata": {},
   "outputs": [],
   "source": [
    "conn = sqlite3.connect('zoologico.db')"
   ]
  },
  {
   "cell_type": "markdown",
   "metadata": {},
   "source": [
    ">#### <li> 3.1° Passo: Criar um cursor <br> \n",
    "<blockquote> <blockquote>   <b> Cursor </b> é necessário para poder navegar através do banco de dados</blockquote>  </blockquote>       "
   ]
  },
  {
   "cell_type": "code",
   "execution_count": null,
   "metadata": {},
   "outputs": [],
   "source": [
    "cur = conn.cursor()"
   ]
  },
  {
   "cell_type": "markdown",
   "metadata": {},
   "source": [
    "### <li> 4° Passo: Criar a tabela por meio de codigo SQL  <br>  "
   ]
  },
  {
   "cell_type": "code",
   "execution_count": null,
   "metadata": {},
   "outputs": [],
   "source": [
    "sql_create ='CREATE TABLE animais '\\\n",
    "            '(id_animal INTEGER PRIMARY KEY AUTOINCREMENT NOT NULL,'\\\n",
    "            'apelido VARCHAR(50),'\\\n",
    "            'idade INT,'\\\n",
    "            'data_nascimento DATE,'\\\n",
    "            'peso FLOAT,'\\\n",
    "            'especie VARCHAR(50),'\\\n",
    "            'origem VARCHAR(50))';"
   ]
  },
  {
   "cell_type": "markdown",
   "metadata": {},
   "source": [
    "<blockquote><h4>  4.1° Passo: Executar o código de criação da tabela pelo cursor </h4></blockquote>    \n",
    "<blockquote> <blockquote>   Código: <b>cur.execute(sql_create) </b> </blockquote>  </blockquote>                               \n"
   ]
  },
  {
   "cell_type": "markdown",
   "metadata": {},
   "source": [
    "### <li> 5° Passo: Automatizar o processor de inserir os dados <br>"
   ]
  },
  {
   "cell_type": "markdown",
   "metadata": {},
   "source": [
    "><h4> <li> 5.1° Passo:Criar funções para inserir dados na tabela </h4>"
   ]
  },
  {
   "cell_type": "code",
   "execution_count": null,
   "metadata": {},
   "outputs": [],
   "source": [
    "def insert():\n",
    "    print('\\n_____________________________________________________\\n')\n",
    "    \n",
    "    input_apelido = input('Qual o Apelido do animal: ') \n",
    "    input_idade = int(input('Qual a idade dele: '))\n",
    "    input_dataNascimento = random_birth(input_idade)\n",
    "    input_peso = float(input('Qual o peso dele: '))\n",
    "    input_especie = input('Qual a especide do animal: ')\n",
    "    input_origem = input('Qual o local de origem do animal: ')\n",
    "    cur.execute('INSERT INTO animais(apelido,idade,data_nascimento,peso,especie,origem) VALUES(? , ? , ?, ?, ?, ?)', \n",
    "                (input_apelido,input_idade,input_dataNascimento,input_peso,input_especie,input_origem))\n",
    "    \n",
    "    conn.commit()\n",
    "    \n",
    "    print('\\n_____________________________________________________\\n')"
   ]
  },
  {
   "cell_type": "markdown",
   "metadata": {},
   "source": [
    "> Utilizar o <b>conn.commit( )</b> para salvar as alterações no banco de dados"
   ]
  },
  {
   "cell_type": "code",
   "execution_count": null,
   "metadata": {},
   "outputs": [],
   "source": [
    "def random_birth(vIdade):\n",
    "    mes = random.randint(1,12)\n",
    "    dia = random.randint(1,30)\n",
    "    ano = 2021-vIdade\n",
    "    dataNascimento = str(ano)+'-'+str(mes)+'-'+str(dia)\n",
    "\n",
    "    return dataNascimento\n",
    "    "
   ]
  },
  {
   "cell_type": "markdown",
   "metadata": {},
   "source": [
    "><h4> <li> 5.2° Passo: Criar um Loop para executar as funções</h4>"
   ]
  },
  {
   "cell_type": "code",
   "execution_count": null,
   "metadata": {},
   "outputs": [],
   "source": [
    "while True:\n",
    "    continuar = int((input('Você deseja adicionar um novo dado ao banco de dados?\\nDigite \" 1 \" para SIM e \" 0 \" para NÃO')))\n",
    "    if continuar == 1: \n",
    "        insert()\n",
    "    else:\n",
    "        break"
   ]
  },
  {
   "cell_type": "markdown",
   "metadata": {},
   "source": [
    "### <li> 6° Passo: Consultar os dados do banco <br>  "
   ]
  },
  {
   "cell_type": "code",
   "execution_count": null,
   "metadata": {},
   "outputs": [],
   "source": [
    "def read():\n",
    "    sql_select = 'SELECT * FROM animais'\n",
    "    cur.execute(sql_select)\n",
    "    database = cur.fetchall()\n",
    "    \n",
    "    for linha in database:\n",
    "        print('Id: %d, Apelido: %s, Idade: %d, Data de Nascimento: %s, Peso: %f, Espêcie: %s, Origem: %s \\n' %linha)"
   ]
  },
  {
   "cell_type": "markdown",
   "metadata": {},
   "source": [
    "> <h4> <li> 6.1° Passo: Banco de dados é convertido para lista para podermos visualiza-lo </h4>\n",
    "\n",
    "<blockquote> <blockquote>Código: <b>type(database)<b> </blockquote></blockquote>   "
   ]
  },
  {
   "cell_type": "code",
   "execution_count": null,
   "metadata": {},
   "outputs": [],
   "source": [
    "read()"
   ]
  },
  {
   "cell_type": "markdown",
   "metadata": {},
   "source": [
    "### <li> 7° Passo: Alterando dados por meio do UPDATE"
   ]
  },
  {
   "cell_type": "code",
   "execution_count": null,
   "metadata": {},
   "outputs": [],
   "source": [
    "def update():\n",
    "    print('\\n_____________________________________________________\\n')\n",
    "    \n",
    "    id_consulta = int(input('Qual o id do registro que será alterado ')) #Busca ID\n",
    "    \n",
    "    print('Qual coluna deseja alterar \\n'\\\n",
    "         '[ 0 ] para Apelido. \\n'\\\n",
    "         '[ 1 ] para Idade. \\n'\\\n",
    "         '[ 2 ] para Data de Nascimento. \\n'\\\n",
    "         '[ 3 ] para Peso. \\n'\\\n",
    "         '[ 4 ] para Espêcie. \\n'\\\n",
    "         '[ 5 ] para Origem. \\n')\n",
    "    input_coluna = int(input('Qual coluna deseja alterar ? '))\n",
    "    \n",
    "    if input_coluna == 0:\n",
    "        coluna = 'apelido'\n",
    "        new_valor = input('Digite o novo apelido ')\n",
    "        new_valor = f'\"{new_valor}\"' \n",
    "    elif input_coluna == 1:\n",
    "        coluna = 'idade'\n",
    "        new_valor = input('Digite a idade')\n",
    "    elif input_coluna == 2:\n",
    "        coluna = 'data_nascimento'\n",
    "        new_valor = input('Digite a data de nascimento exemplo: (2020-01-29)')\n",
    "        new_valor = f'\"{new_valor}\"'\n",
    "    elif input_coluna == 3:\n",
    "        coluna = 'peso'\n",
    "        new_valor = input('Digite o peso')\n",
    "    elif input_coluna == 4:\n",
    "        coluna = 'especie'\n",
    "        new_valor = input('Digite a Especie')\n",
    "        new_valor = f'\"{new_valor}\"'\n",
    "    elif input_coluna == 5:\n",
    "        coluna = 'origem'\n",
    "        new_valor = input('Digite a Origem')\n",
    "        new_valor = f'\"{new_valor}\"'\n",
    "    else:\n",
    "        print('Coluna inexistente')\n",
    "    \n",
    "    sql_update = 'UPDATE animais SET ' + str(coluna) + ' = '+ str(new_valor) +' WHERE id_animal = '+str(id_consulta)+';'\n",
    "    \n",
    "    print('\\nDados Alterados com sucesso! \\n')\n",
    "    \n",
    "    cur.execute(sql_update)\n",
    "    conn.commit()\n",
    "    \n",
    "    print('\\n_____________________________________________________\\n')\n"
   ]
  },
  {
   "cell_type": "markdown",
   "metadata": {},
   "source": [
    "> <h4> <li> 7.1° Passo: Criar um loop para chamar a função update() </h4>"
   ]
  },
  {
   "cell_type": "code",
   "execution_count": null,
   "metadata": {},
   "outputs": [],
   "source": [
    "while True:\n",
    "    fazer_update = int(input('Deseja Fazer Algum UPDATE no banco de dados ? \\n[ 0 ] = Não \\n[ 1 ] = Sim \\n'))\n",
    "    if fazer_update == 1:    \n",
    "        update()\n",
    "    else:\n",
    "        break"
   ]
  },
  {
   "cell_type": "markdown",
   "metadata": {},
   "source": [
    "### <li> 8° Passo: Alterando dados por meio do DELETE construindo"
   ]
  },
  {
   "cell_type": "code",
   "execution_count": null,
   "metadata": {},
   "outputs": [],
   "source": [
    "def delete():\n",
    "    id_consulta = input('Qual o id do registro que será DELETADO ')\n",
    "    sql_delete ='DELETE FROM animais WHERE id_animal = '+str(id_consulta)+';'\n",
    "    cur.execute(sql_delete)\n",
    "    conn.commit()"
   ]
  },
  {
   "cell_type": "code",
   "execution_count": null,
   "metadata": {},
   "outputs": [],
   "source": [
    "while True:\n",
    "    fazer_delete = int(input('Deseja DELETAR algum registro no banco de dados ? \\n[ 0 ] = Não \\n[ 1 ] = Sim \\n'))\n",
    "    if fazer_delete == 1:    \n",
    "        delete()\n",
    "    else:\n",
    "        break"
   ]
  },
  {
   "cell_type": "markdown",
   "metadata": {},
   "source": [
    "### <li> 9° Passo: Criar um menu para pessoa escolher a operação que deseja realizar  (EXTRA)"
   ]
  },
  {
   "cell_type": "code",
   "execution_count": null,
   "metadata": {},
   "outputs": [],
   "source": [
    "while True:\n",
    "    select_option = int(input('Escolha uma operação para realizar no banco: '\\\n",
    "                          '\\n[ 0 ] = Insert \\n[ 1 ] = Read \\n[ 2 ] = Update \\n[ 3 ] = Delete \\n[ 4 ] = Cancelar \\n'))\n",
    "    if select_option <= 4:\n",
    "        if select_option == 0:\n",
    "            insert()\n",
    "        elif select_option == 1:\n",
    "            read()\n",
    "        elif select_option == 2:\n",
    "            update()\n",
    "        elif select_option == 3:\n",
    "            delete()\n",
    "        elif select_option == 4:\n",
    "            print('Operação Cancelada')\n",
    "            break\n",
    "    else:\n",
    "        print('\\nOperação Inexistente\\n')"
   ]
  },
  {
   "cell_type": "code",
   "execution_count": null,
   "metadata": {},
   "outputs": [],
   "source": []
  }
 ],
 "metadata": {
  "kernelspec": {
   "display_name": "Python 3",
   "language": "python",
   "name": "python3"
  },
  "language_info": {
   "codemirror_mode": {
    "name": "ipython",
    "version": 3
   },
   "file_extension": ".py",
   "mimetype": "text/x-python",
   "name": "python",
   "nbconvert_exporter": "python",
   "pygments_lexer": "ipython3",
   "version": "3.8.3"
  }
 },
 "nbformat": 4,
 "nbformat_minor": 4
}
